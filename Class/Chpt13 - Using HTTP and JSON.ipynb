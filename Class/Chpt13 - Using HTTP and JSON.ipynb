{
 "cells": [
  {
   "cell_type": "code",
   "execution_count": 1,
   "metadata": {},
   "outputs": [],
   "source": [
    "import requests\n",
    "import json"
   ]
  },
  {
   "cell_type": "code",
   "execution_count": 2,
   "metadata": {},
   "outputs": [],
   "source": [
    "url = 'http://localhost:9090/contacts.json'"
   ]
  },
  {
   "cell_type": "code",
   "execution_count": 3,
   "metadata": {},
   "outputs": [],
   "source": [
    "resp = requests.get(url)"
   ]
  },
  {
   "cell_type": "code",
   "execution_count": 4,
   "metadata": {},
   "outputs": [
    {
     "data": {
      "text/plain": [
       "True"
      ]
     },
     "execution_count": 4,
     "metadata": {},
     "output_type": "execute_result"
    }
   ],
   "source": [
    "resp.status_code == 200"
   ]
  },
  {
   "cell_type": "code",
   "execution_count": 5,
   "metadata": {},
   "outputs": [
    {
     "data": {
      "text/plain": [
       "{'Server': 'SimpleHTTP/0.6 Python/3.7.4', 'Date': 'Tue, 01 Feb 2022 17:09:32 GMT', 'Content-type': 'application/json', 'Content-Length': '1182', 'Last-Modified': 'Fri, 25 Sep 2020 23:36:14 GMT'}"
      ]
     },
     "execution_count": 5,
     "metadata": {},
     "output_type": "execute_result"
    }
   ],
   "source": [
    "resp.headers"
   ]
  },
  {
   "cell_type": "code",
   "execution_count": 6,
   "metadata": {},
   "outputs": [
    {
     "data": {
      "text/plain": [
       "[{'id': 1,\n",
       "  'name': 'Duane McDuff',\n",
       "  'company': 'Muxo',\n",
       "  'state': 'MA',\n",
       "  'phone': '508-367-7864'},\n",
       " {'id': 2,\n",
       "  'name': 'Rachelle Ciementini',\n",
       "  'company': 'Jazzy',\n",
       "  'state': 'MO',\n",
       "  'phone': '314-982-6499'},\n",
       " {'id': 3,\n",
       "  'name': 'Clementina Lambrechts',\n",
       "  'company': 'Cogibox',\n",
       "  'state': 'NY',\n",
       "  'phone': '518-859-9548'}]"
      ]
     },
     "execution_count": 6,
     "metadata": {},
     "output_type": "execute_result"
    }
   ],
   "source": [
    "contacts = resp.json(); contacts[:3]"
   ]
  },
  {
   "cell_type": "code",
   "execution_count": 7,
   "metadata": {},
   "outputs": [
    {
     "data": {
      "text/plain": [
       "[('Duane McDuff', 'Muxo'),\n",
       " ('Rachelle Ciementini', 'Jazzy'),\n",
       " ('Clementina Lambrechts', 'Cogibox'),\n",
       " ('Jedediah Dasent', 'Jabberstorm'),\n",
       " ('Edithe Izakovitz', 'Tavu'),\n",
       " ('Marcelline Gell', 'Vitz'),\n",
       " ('Buckie Snaden', 'Realbuzz'),\n",
       " ('Andrew Calladine', 'Gabtype'),\n",
       " ('Camille Duckham', 'Skynoodle'),\n",
       " ('Merrielle Stile', 'Roomm')]"
      ]
     },
     "execution_count": 7,
     "metadata": {},
     "output_type": "execute_result"
    }
   ],
   "source": [
    "[(c.get('name', 'Joe Doe'), c.get('company', 'N/A')) for c in contacts]"
   ]
  },
  {
   "cell_type": "code",
   "execution_count": 8,
   "metadata": {},
   "outputs": [],
   "source": [
    "file_so_save = 'saved_contacs.json'\n",
    "with open(file_so_save, 'w') as fout:\n",
    "    json.dump(contacts,fout)"
   ]
  },
  {
   "cell_type": "code",
   "execution_count": 9,
   "metadata": {},
   "outputs": [],
   "source": [
    "with open(file_so_save) as fin:\n",
    "    json_from_file = json.load(fin)"
   ]
  },
  {
   "cell_type": "code",
   "execution_count": 14,
   "metadata": {},
   "outputs": [
    {
     "data": {
      "text/plain": [
       "True"
      ]
     },
     "execution_count": 14,
     "metadata": {},
     "output_type": "execute_result"
    }
   ],
   "source": [
    "json_from_file == contacts"
   ]
  },
  {
   "cell_type": "code",
   "execution_count": 15,
   "metadata": {},
   "outputs": [],
   "source": [
    "assert json_from_file == contacts, \"Make sure they match\""
   ]
  },
  {
   "cell_type": "code",
   "execution_count": null,
   "metadata": {},
   "outputs": [],
   "source": []
  }
 ],
 "metadata": {
  "kernelspec": {
   "display_name": "Python 3",
   "language": "python",
   "name": "python3"
  },
  "language_info": {
   "codemirror_mode": {
    "name": "ipython",
    "version": 3
   },
   "file_extension": ".py",
   "mimetype": "text/x-python",
   "name": "python",
   "nbconvert_exporter": "python",
   "pygments_lexer": "ipython3",
   "version": "3.7.4"
  }
 },
 "nbformat": 4,
 "nbformat_minor": 2
}
