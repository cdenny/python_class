{
 "cells": [
  {
   "cell_type": "code",
   "execution_count": 1,
   "metadata": {},
   "outputs": [],
   "source": [
    "import random"
   ]
  },
  {
   "cell_type": "code",
   "execution_count": 2,
   "metadata": {},
   "outputs": [],
   "source": [
    "secret_seed = 2020\n",
    "random.seed(secret_seed)"
   ]
  },
  {
   "cell_type": "code",
   "execution_count": 3,
   "metadata": {},
   "outputs": [],
   "source": [
    "low, high = 1,49"
   ]
  },
  {
   "cell_type": "code",
   "execution_count": 4,
   "metadata": {},
   "outputs": [],
   "source": [
    "sequence_len=10"
   ]
  },
  {
   "cell_type": "code",
   "execution_count": 5,
   "metadata": {},
   "outputs": [
    {
     "data": {
      "text/plain": [
       "[40, 40, 12, 43, 30, 29, 31, 24, 27, 35]"
      ]
     },
     "execution_count": 5,
     "metadata": {},
     "output_type": "execute_result"
    }
   ],
   "source": [
    "observed_sequence=[random.randint(low,high) for i in range(sequence_len)]; observed_sequence"
   ]
  },
  {
   "cell_type": "code",
   "execution_count": 6,
   "metadata": {},
   "outputs": [
    {
     "name": "stdout",
     "output_type": "stream",
     "text": [
      "[24, 32, 22, 20, 14, 41, 25, 5, 16, 46] -> [40, 40, 12, 43, 30, 29, 31, 24, 27, 35]\n",
      "better luck next time...1984\n",
      "[26, 24, 24, 33, 2, 25, 39, 20, 30, 30] -> [40, 40, 12, 43, 30, 29, 31, 24, 27, 35]\n",
      "better luck next time...1985\n",
      "[17, 39, 7, 27, 31, 5, 25, 9, 41, 43] -> [40, 40, 12, 43, 30, 29, 31, 24, 27, 35]\n",
      "better luck next time...1986\n",
      "[31, 10, 39, 43, 17, 37, 37, 29, 45, 48] -> [40, 40, 12, 43, 30, 29, 31, 24, 27, 35]\n",
      "better luck next time...1987\n",
      "[36, 8, 35, 40, 10, 5, 12, 32, 29, 41] -> [40, 40, 12, 43, 30, 29, 31, 24, 27, 35]\n",
      "better luck next time...1988\n",
      "[37, 11, 17, 8, 28, 36, 46, 19, 34, 47] -> [40, 40, 12, 43, 30, 29, 31, 24, 27, 35]\n",
      "better luck next time...1989\n",
      "[1, 22, 6, 9, 3, 2, 10, 34, 6, 46] -> [40, 40, 12, 43, 30, 29, 31, 24, 27, 35]\n",
      "better luck next time...1990\n",
      "[37, 28, 24, 49, 49, 45, 13, 33, 46, 32] -> [40, 40, 12, 43, 30, 29, 31, 24, 27, 35]\n",
      "better luck next time...1991\n",
      "[46, 40, 22, 21, 30, 28, 48, 5, 41, 31] -> [40, 40, 12, 43, 30, 29, 31, 24, 27, 35]\n",
      "better luck next time...1992\n",
      "[31, 40, 17, 29, 3, 8, 11, 22, 23, 10] -> [40, 40, 12, 43, 30, 29, 31, 24, 27, 35]\n",
      "better luck next time...1993\n",
      "[31, 29, 42, 19, 46, 28, 24, 39, 11, 2] -> [40, 40, 12, 43, 30, 29, 31, 24, 27, 35]\n",
      "better luck next time...1994\n",
      "[47, 30, 12, 41, 48, 41, 2, 36, 30, 29] -> [40, 40, 12, 43, 30, 29, 31, 24, 27, 35]\n",
      "better luck next time...1995\n",
      "[37, 36, 30, 49, 27, 36, 47, 20, 15, 35] -> [40, 40, 12, 43, 30, 29, 31, 24, 27, 35]\n",
      "better luck next time...1996\n",
      "[16, 5, 15, 9, 43, 15, 25, 22, 29, 42] -> [40, 40, 12, 43, 30, 29, 31, 24, 27, 35]\n",
      "better luck next time...1997\n",
      "[38, 13, 9, 24, 48, 11, 7, 19, 20, 15] -> [40, 40, 12, 43, 30, 29, 31, 24, 27, 35]\n",
      "better luck next time...1998\n",
      "[8, 23, 10, 47, 37, 32, 17, 40, 37, 13] -> [40, 40, 12, 43, 30, 29, 31, 24, 27, 35]\n",
      "better luck next time...1999\n",
      "[29, 4, 31, 49, 17, 46, 12, 37, 41, 9] -> [40, 40, 12, 43, 30, 29, 31, 24, 27, 35]\n",
      "better luck next time...2000\n",
      "[38, 2, 24, 4, 6, 42, 39, 38, 3, 37] -> [40, 40, 12, 43, 30, 29, 31, 24, 27, 35]\n",
      "better luck next time...2001\n",
      "[47, 1, 33, 21, 42, 37, 8, 17, 19, 39] -> [40, 40, 12, 43, 30, 29, 31, 24, 27, 35]\n",
      "better luck next time...2002\n",
      "[8, 46, 36, 45, 15, 19, 20, 43, 26, 47] -> [40, 40, 12, 43, 30, 29, 31, 24, 27, 35]\n",
      "better luck next time...2003\n",
      "[34, 1, 39, 14, 24, 7, 43, 40, 34, 39] -> [40, 40, 12, 43, 30, 29, 31, 24, 27, 35]\n",
      "better luck next time...2004\n",
      "[29, 1, 5, 32, 14, 30, 42, 28, 7, 16] -> [40, 40, 12, 43, 30, 29, 31, 24, 27, 35]\n",
      "better luck next time...2005\n",
      "[36, 26, 5, 42, 4, 21, 42, 36, 42, 5] -> [40, 40, 12, 43, 30, 29, 31, 24, 27, 35]\n",
      "better luck next time...2006\n",
      "[13, 43, 49, 5, 27, 40, 45, 23, 11, 36] -> [40, 40, 12, 43, 30, 29, 31, 24, 27, 35]\n",
      "better luck next time...2007\n",
      "[10, 35, 25, 8, 4, 49, 48, 26, 25, 24] -> [40, 40, 12, 43, 30, 29, 31, 24, 27, 35]\n",
      "better luck next time...2008\n",
      "[18, 41, 49, 43, 40, 11, 27, 4, 46, 45] -> [40, 40, 12, 43, 30, 29, 31, 24, 27, 35]\n",
      "better luck next time...2009\n",
      "[9, 32, 30, 15, 41, 35, 29, 29, 17, 14] -> [40, 40, 12, 43, 30, 29, 31, 24, 27, 35]\n",
      "better luck next time...2010\n",
      "[34, 35, 41, 16, 20, 11, 19, 4, 42, 24] -> [40, 40, 12, 43, 30, 29, 31, 24, 27, 35]\n",
      "better luck next time...2011\n",
      "[7, 31, 24, 13, 22, 38, 1, 33, 40, 20] -> [40, 40, 12, 43, 30, 29, 31, 24, 27, 35]\n",
      "better luck next time...2012\n",
      "[28, 4, 26, 22, 49, 25, 37, 33, 29, 27] -> [40, 40, 12, 43, 30, 29, 31, 24, 27, 35]\n",
      "better luck next time...2013\n",
      "[21, 38, 26, 13, 22, 14, 28, 28, 45, 32] -> [40, 40, 12, 43, 30, 29, 31, 24, 27, 35]\n",
      "better luck next time...2014\n",
      "[47, 5, 41, 42, 3, 9, 48, 41, 47, 6] -> [40, 40, 12, 43, 30, 29, 31, 24, 27, 35]\n",
      "better luck next time...2015\n",
      "[48, 29, 36, 17, 44, 46, 6, 19, 9, 5] -> [40, 40, 12, 43, 30, 29, 31, 24, 27, 35]\n",
      "better luck next time...2016\n",
      "[13, 29, 22, 21, 33, 14, 47, 5, 33, 30] -> [40, 40, 12, 43, 30, 29, 31, 24, 27, 35]\n",
      "better luck next time...2017\n",
      "[35, 9, 2, 26, 41, 43, 33, 20, 8, 28] -> [40, 40, 12, 43, 30, 29, 31, 24, 27, 35]\n",
      "better luck next time...2018\n",
      "[10, 16, 32, 11, 16, 42, 16, 42, 21, 49] -> [40, 40, 12, 43, 30, 29, 31, 24, 27, 35]\n",
      "better luck next time...2019\n",
      "[40, 40, 12, 43, 30, 29, 31, 24, 27, 35] -> [40, 40, 12, 43, 30, 29, 31, 24, 27, 35]\n",
      "Bingo, the seed is 2020\n",
      "better luck next time...2020\n"
     ]
    }
   ],
   "source": [
    "bingo = False\n",
    "for seed in range(1984,2021,1):\n",
    "    random.seed(seed)\n",
    "    test_sequence = [random.randint(low,high) for i in range(sequence_len)]\n",
    "    print(f'{test_sequence} -> {observed_sequence}')\n",
    "    if test_sequence == observed_sequence:\n",
    "            print(f'Bingo, the seed is {seed}')\n",
    "            Bingo = True\n",
    "    if not bingo:\n",
    "        print(f'better luck next time...{seed}')"
   ]
  },
  {
   "cell_type": "code",
   "execution_count": 11,
   "metadata": {},
   "outputs": [
    {
     "name": "stdout",
     "output_type": "stream",
     "text": [
      "Wall time: 32.4 s\n"
     ]
    },
    {
     "data": {
      "text/plain": [
       "[41, 8, 2, 48, 18, 16, 15]"
      ]
     },
     "execution_count": 11,
     "metadata": {},
     "output_type": "execute_result"
    }
   ],
   "source": [
    "sequence_len = 10000000\n",
    "some_seedy_seed = 42\n",
    "random.seed(some_seedy_seed)\n",
    "%time them_all = [random.randint(low,high) for i in range(sequence_len)]\n",
    "them_all[:7]"
   ]
  },
  {
   "cell_type": "code",
   "execution_count": null,
   "metadata": {},
   "outputs": [],
   "source": []
  }
 ],
 "metadata": {
  "kernelspec": {
   "display_name": "Python 3",
   "language": "python",
   "name": "python3"
  },
  "language_info": {
   "codemirror_mode": {
    "name": "ipython",
    "version": 3
   },
   "file_extension": ".py",
   "mimetype": "text/x-python",
   "name": "python",
   "nbconvert_exporter": "python",
   "pygments_lexer": "ipython3",
   "version": "3.7.4"
  }
 },
 "nbformat": 4,
 "nbformat_minor": 2
}
